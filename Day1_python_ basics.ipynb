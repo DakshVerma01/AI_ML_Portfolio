{
  "nbformat": 4,
  "nbformat_minor": 0,
  "metadata": {
    "colab": {
      "provenance": [],
      "authorship_tag": "ABX9TyNMXf6dgTWOOEOo0zMUdJYA",
      "include_colab_link": true
    },
    "kernelspec": {
      "name": "python3",
      "display_name": "Python 3"
    },
    "language_info": {
      "name": "python"
    }
  },
  "cells": [
    {
      "cell_type": "markdown",
      "metadata": {
        "id": "view-in-github",
        "colab_type": "text"
      },
      "source": [
        "<a href=\"https://colab.research.google.com/github/DakshVerma01/AI_ML_Portfolio/blob/main/Day1_python_%20basics.ipynb\" target=\"_parent\"><img src=\"https://colab.research.google.com/assets/colab-badge.svg\" alt=\"Open In Colab\"/></a>"
      ]
    },
    {
      "cell_type": "code",
      "execution_count": 1,
      "metadata": {
        "colab": {
          "base_uri": "https://localhost:8080/"
        },
        "id": "LttKE0A7H4hK",
        "outputId": "22f8b7bd-4da7-4c84-a601-68520276f2df"
      },
      "outputs": [
        {
          "output_type": "stream",
          "name": "stdout",
          "text": [
            "My name is Daksh and I am 17 years old.\n",
            "2\n",
            "4\n",
            "6\n",
            "8\n",
            "10\n"
          ]
        }
      ],
      "source": [
        "# Day 1: Python Basics\n",
        "name = \"Daksh\"\n",
        "age = 17\n",
        "print(f\"My name is {name} and I am {age} years old.\")\n",
        "\n",
        "# List and Loop Example\n",
        "numbers = [1, 2, 3, 4, 5]\n",
        "for n in numbers:\n",
        "    print(n * 2)"
      ]
    },
    {
      "cell_type": "markdown",
      "source": [
        "# Python Basics – Day 1\n",
        "This notebook contains basic Python exercises:\n",
        "- Variables\n",
        "- Loops\n",
        "- Lists"
      ],
      "metadata": {
        "id": "NEr2jwzlInOA"
      }
    }
  ]
}