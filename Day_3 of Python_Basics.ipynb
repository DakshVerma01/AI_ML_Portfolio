{
  "nbformat": 4,
  "nbformat_minor": 0,
  "metadata": {
    "colab": {
      "provenance": [],
      "authorship_tag": "ABX9TyNZOy+mApfMvlPRqb85b6qk",
      "include_colab_link": true
    },
    "kernelspec": {
      "name": "python3",
      "display_name": "Python 3"
    },
    "language_info": {
      "name": "python"
    }
  },
  "cells": [
    {
      "cell_type": "markdown",
      "metadata": {
        "id": "view-in-github",
        "colab_type": "text"
      },
      "source": [
        "<a href=\"https://colab.research.google.com/github/DakshVerma01/AI_ML_Portfolio/blob/main/Day_3%20of%20Python_Basics.ipynb\" target=\"_parent\"><img src=\"https://colab.research.google.com/assets/colab-badge.svg\" alt=\"Open In Colab\"/></a>"
      ]
    },
    {
      "cell_type": "code",
      "execution_count": null,
      "metadata": {
        "colab": {
          "base_uri": "https://localhost:8080/"
        },
        "id": "pcWw_XxfbTwA",
        "outputId": "c4b03bf8-a7d0-4103-8fc3-cc64a27c0a20"
      },
      "outputs": [
        {
          "output_type": "stream",
          "name": "stdout",
          "text": [
            "My name is Daksh\n",
            "I am 17 years old\n"
          ]
        }
      ],
      "source": [
        "#Store your age and name\n",
        "name = \"Daksh\"\n",
        "age = 17\n",
        "\n",
        "print(\"My name is\", name)\n",
        "print(\"I am\",age, \"years old\")"
      ]
    },
    {
      "cell_type": "code",
      "source": [
        "x=10\n",
        "y=3\n",
        "print(\"x + y =\", x + y)\n",
        "print(\"x - y =\", x - y)\n",
        "print(\"x * y =\", x * y)\n",
        "print(\"x / y =\", x / y)\n",
        "print(\"x % y =\", x % y) #remainder"
      ],
      "metadata": {
        "colab": {
          "base_uri": "https://localhost:8080/"
        },
        "id": "TSGOhbQrcFZX",
        "outputId": "5ec09184-3883-4fc8-b440-e1e9cf7cd3f3"
      },
      "execution_count": null,
      "outputs": [
        {
          "output_type": "stream",
          "name": "stdout",
          "text": [
            "x + y = 13\n",
            "x - y = 7\n",
            "x * y = 30\n",
            "x / y = 3.3333333333333335\n",
            "x % y = 1\n"
          ]
        }
      ]
    },
    {
      "cell_type": "code",
      "source": [
        "your_name = input(\"Enter your name: \")\n",
        "print(\"Hello\", your_name)"
      ],
      "metadata": {
        "id": "PBJT1DUKebDQ"
      },
      "execution_count": null,
      "outputs": []
    }
  ]
}