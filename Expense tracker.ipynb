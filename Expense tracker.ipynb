{
  "nbformat": 4,
  "nbformat_minor": 0,
  "metadata": {
    "colab": {
      "provenance": [],
      "authorship_tag": "ABX9TyOq1jUEb3v68J2Soyb2BqSw",
      "include_colab_link": true
    },
    "kernelspec": {
      "name": "python3",
      "display_name": "Python 3"
    },
    "language_info": {
      "name": "python"
    }
  },
  "cells": [
    {
      "cell_type": "markdown",
      "metadata": {
        "id": "view-in-github",
        "colab_type": "text"
      },
      "source": [
        "<a href=\"https://colab.research.google.com/github/DakshVerma01/AI_ML_Portfolio/blob/main/Expense%20tracker.ipynb\" target=\"_parent\"><img src=\"https://colab.research.google.com/assets/colab-badge.svg\" alt=\"Open In Colab\"/></a>"
      ]
    },
    {
      "cell_type": "code",
      "execution_count": null,
      "metadata": {
        "colab": {
          "base_uri": "https://localhost:8080/"
        },
        "id": "xunsijpeelbE",
        "outputId": "6a9401ed-f22f-4831-954b-c5e70eccc066"
      },
      "outputs": [
        {
          "metadata": {
            "tags": null
          },
          "name": "stdout",
          "output_type": "stream",
          "text": [
            "\n",
            "--- Expense Tracker ---\n",
            "1. Add Expense\n",
            "2. View Expenses\n",
            "3. Delete Expense\n",
            "4. Show Summary\n",
            "5. Exit\n"
          ]
        }
      ],
      "source": [
        "import json\n",
        "from datetime import datetime\n",
        "\n",
        "class ExpenseTracker:\n",
        "    def __init__(self, filename=\"expenses.json\"):\n",
        "        self.filename = filename\n",
        "        self.expenses = self.load_expenses()\n",
        "\n",
        "    def load_expenses(self):\n",
        "        try:\n",
        "            with open(self.filename, \"r\") as file:\n",
        "                return json.load(file)\n",
        "        except (FileNotFoundError, json.JSONDecodeError):\n",
        "            return []\n",
        "\n",
        "    def save_expenses(self):\n",
        "        with open(self.filename, \"w\") as file:\n",
        "            json.dump(self.expenses, file, indent=4)\n",
        "\n",
        "    def add_expense(self, amount, category, note=\"\"):\n",
        "        try:\n",
        "            amount = float(amount)\n",
        "            expense = {\n",
        "                \"amount\": amount,\n",
        "                \"category\": category,\n",
        "                \"note\": note,\n",
        "                \"date\": datetime.now().strftime(\"%Y-%m-%d %H:%M:%S\")\n",
        "            }\n",
        "            self.expenses.append(expense)\n",
        "            self.save_expenses()\n",
        "            print(\"✅ Expense added successfully!\")\n",
        "        except ValueError:\n",
        "            print(\"❌ Invalid amount entered.\")\n",
        "\n",
        "    def view_expenses(self):\n",
        "        if not self.expenses:\n",
        "            print(\"No expenses recorded yet.\")\n",
        "            return\n",
        "        for i, exp in enumerate(self.expenses, start=1):\n",
        "            print(f\"{i}. {exp['amount']} INR | {exp['category']} | {exp['note']} | {exp['date']}\")\n",
        "\n",
        "    def delete_expense(self, index):\n",
        "        try:\n",
        "            self.expenses.pop(index - 1)\n",
        "            self.save_expenses()\n",
        "            print(\"✅ Expense deleted.\")\n",
        "        except IndexError:\n",
        "            print(\"❌ Invalid index.\")\n",
        "\n",
        "    def summary(self):\n",
        "        if not self.expenses:\n",
        "            print(\"No expenses to summarize.\")\n",
        "            return\n",
        "        total = sum(exp[\"amount\"] for exp in self.expenses)\n",
        "        categories = {}\n",
        "        for exp in self.expenses:\n",
        "            categories[exp[\"category\"]] = categories.get(exp[\"category\"], 0) + exp[\"amount\"]\n",
        "\n",
        "        print(\"\\n📊 Expense Summary:\")\n",
        "        print(\"Total Spent:\", total, \"INR\")\n",
        "        for cat, amt in categories.items():\n",
        "            print(f\"- {cat}: {amt} INR\")\n",
        "\n",
        "\n",
        "# ---------------- Main Program ---------------- #\n",
        "tracker = ExpenseTracker()\n",
        "\n",
        "while True:\n",
        "    print(\"\\n--- Expense Tracker ---\")\n",
        "    print(\"1. Add Expense\")\n",
        "    print(\"2. View Expenses\")\n",
        "    print(\"3. Delete Expense\")\n",
        "    print(\"4. Show Summary\")\n",
        "    print(\"5. Exit\")\n",
        "\n",
        "    choice = input(\"Enter choice: \")\n",
        "\n",
        "    if choice == \"1\":\n",
        "        amt = input(\"Enter amount: \")\n",
        "        cat = input(\"Enter category (Food/Travel/Study/etc): \")\n",
        "        note = input(\"Enter note (optional): \")\n",
        "        tracker.add_expense(amt, cat, note)\n",
        "    elif choice == \"2\":\n",
        "        tracker.view_expenses()\n",
        "    elif choice == \"3\":\n",
        "        tracker.view_expenses()\n",
        "        idx = int(input(\"Enter expense number to delete: \"))\n",
        "        tracker.delete_expense(idx)\n",
        "    elif choice == \"4\":\n",
        "        tracker.summary()\n",
        "    elif choice == \"5\":\n",
        "        print(\"Exiting... Goodbye!\")\n",
        "        break\n",
        "    else:\n",
        "        print(\"❌ Invalid choice. Try again.\")"
      ]
    }
  ]
}