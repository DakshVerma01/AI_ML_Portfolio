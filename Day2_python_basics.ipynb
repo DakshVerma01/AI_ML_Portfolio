{
  "nbformat": 4,
  "nbformat_minor": 0,
  "metadata": {
    "colab": {
      "provenance": [],
      "authorship_tag": "ABX9TyOdZOqoNLA7xOFmuh/geKGi",
      "include_colab_link": true
    },
    "kernelspec": {
      "name": "python3",
      "display_name": "Python 3"
    },
    "language_info": {
      "name": "python"
    }
  },
  "cells": [
    {
      "cell_type": "markdown",
      "metadata": {
        "id": "view-in-github",
        "colab_type": "text"
      },
      "source": [
        "<a href=\"https://colab.research.google.com/github/DakshVerma01/AI_ML_Portfolio/blob/main/Day2_python_basics.ipynb\" target=\"_parent\"><img src=\"https://colab.research.google.com/assets/colab-badge.svg\" alt=\"Open In Colab\"/></a>"
      ]
    },
    {
      "cell_type": "code",
      "execution_count": 15,
      "metadata": {
        "colab": {
          "base_uri": "https://localhost:8080/"
        },
        "id": "OTZiEo8uVAkl",
        "outputId": "de8e7958-6d27-4f7c-a68c-105a2ac2b5ab"
      },
      "outputs": [
        {
          "output_type": "stream",
          "name": "stdout",
          "text": [
            "Hello my name is Daksh\n"
          ]
        }
      ],
      "source": [
        "#printing\n",
        "print(\"Hello my name is Daksh\")"
      ]
    },
    {
      "cell_type": "code",
      "source": [
        "#variables\n",
        "age = 17\n",
        "name = \"Daksh\"\n",
        "print(\"My name is\",name,\"and I am\",age,\"year old.\")"
      ],
      "metadata": {
        "colab": {
          "base_uri": "https://localhost:8080/"
        },
        "id": "RNb-1SERYRqP",
        "outputId": "d29251c4-32f2-4601-b52b-fc70091fc986"
      },
      "execution_count": 18,
      "outputs": [
        {
          "output_type": "stream",
          "name": "stdout",
          "text": [
            "My name is Daksh and I am 17 year old.\n"
          ]
        }
      ]
    },
    {
      "cell_type": "code",
      "source": [
        "#simple maths\n",
        "x=52\n",
        "y=1000287\n",
        "print(\"sum:\",x+y)\n",
        "print(\"subtract:\",x-y)\n",
        "print(\"devide:\",y/x)\n",
        "print(\"devide:\",y/22)\n",
        "print(\"devide:\",y/3.14)\n",
        "print(\"multiply:\",y*30*x)"
      ],
      "metadata": {
        "colab": {
          "base_uri": "https://localhost:8080/"
        },
        "id": "qIf0Sp7bZJ08",
        "outputId": "b8f8d900-e4df-446a-8336-dd4e2e369b49"
      },
      "execution_count": 30,
      "outputs": [
        {
          "output_type": "stream",
          "name": "stdout",
          "text": [
            "sum: 1000339\n",
            "subtract: -1000235\n",
            "devide: 19236.28846153846\n",
            "devide: 45467.59090909091\n",
            "devide: 318562.7388535032\n",
            "multiply: 1560447720\n"
          ]
        }
      ]
    }
  ]
}